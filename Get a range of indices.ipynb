{
 "cells": [
  {
   "cell_type": "code",
   "execution_count": 1,
   "id": "25f49874",
   "metadata": {},
   "outputs": [],
   "source": [
    "import numpy as np"
   ]
  },
  {
   "cell_type": "code",
   "execution_count": 2,
   "id": "abc70e63",
   "metadata": {},
   "outputs": [],
   "source": [
    "an_array = np.array([1, 2, 15])"
   ]
  },
  {
   "cell_type": "code",
   "execution_count": 3,
   "id": "821fb0d7",
   "metadata": {},
   "outputs": [],
   "source": [
    "boolean_array = np.logical_and(an_array >= 1, an_array <= 3)"
   ]
  },
  {
   "cell_type": "code",
   "execution_count": 4,
   "id": "f5202c94",
   "metadata": {},
   "outputs": [],
   "source": [
    "in_range_indices = np.where(boolean_array)[0]"
   ]
  },
  {
   "cell_type": "code",
   "execution_count": 5,
   "id": "608085c3",
   "metadata": {},
   "outputs": [
    {
     "name": "stdout",
     "output_type": "stream",
     "text": [
      "[0 1]\n"
     ]
    }
   ],
   "source": [
    "print(in_range_indices)"
   ]
  },
  {
   "cell_type": "code",
   "execution_count": null,
   "id": "09744eb7",
   "metadata": {},
   "outputs": [],
   "source": []
  }
 ],
 "metadata": {
  "kernelspec": {
   "display_name": "Python 3 (ipykernel)",
   "language": "python",
   "name": "python3"
  },
  "language_info": {
   "codemirror_mode": {
    "name": "ipython",
    "version": 3
   },
   "file_extension": ".py",
   "mimetype": "text/x-python",
   "name": "python",
   "nbconvert_exporter": "python",
   "pygments_lexer": "ipython3",
   "version": "3.9.7"
  },
  "varInspector": {
   "cols": {
    "lenName": 16,
    "lenType": 16,
    "lenVar": 40
   },
   "kernels_config": {
    "python": {
     "delete_cmd_postfix": "",
     "delete_cmd_prefix": "del ",
     "library": "var_list.py",
     "varRefreshCmd": "print(var_dic_list())"
    },
    "r": {
     "delete_cmd_postfix": ") ",
     "delete_cmd_prefix": "rm(",
     "library": "var_list.r",
     "varRefreshCmd": "cat(var_dic_list()) "
    }
   },
   "types_to_exclude": [
    "module",
    "function",
    "builtin_function_or_method",
    "instance",
    "_Feature"
   ],
   "window_display": false
  }
 },
 "nbformat": 4,
 "nbformat_minor": 5
}
